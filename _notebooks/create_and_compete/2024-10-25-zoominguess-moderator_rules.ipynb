{
 "cells": [
  {
   "cell_type": "raw",
   "metadata": {
    "vscode": {
     "languageId": "raw"
    }
   },
   "source": [
    "---\n",
    "layout: post\n",
    "title: Moderator Rules\n",
    "description: Making rules as a moderator and applying them while coding \n",
    "permalink: /moderation/rules_zoominguess/\n",
    "toc: true\n",
    "comments: true\n",
    "author: Arhaan, Mihir, Keerthan, Akshaj\n",
    "---"
   ]
  },
  {
   "cell_type": "markdown",
   "metadata": {},
   "source": [
    "# Moderator Rules for Zoom-In Guess Game Chatroom\n",
    "\n",
    "### 1. **Keep It Fun and Friendly**  \n",
    "   - Encourage positive and friendly guesses. Remind everyone that all guesses are welcome—no teasing or negativity about others' guesses!\n",
    "\n",
    "### 2. **No Spoilers**  \n",
    "   - If you know the answer to the zoomed-in image, don’t spoil it for others. Let people have time to guess before revealing the answer.\n",
    "\n",
    "### 3. **Use Appropriate Images Only**  \n",
    "   - Make sure all images posted are safe and appropriate for everyone in the chat. Avoid anything graphic or offensive.\n",
    "\n",
    "### 4. **Stay on Topic**  \n",
    "   - Keep the chat focused on guessing the zoomed-in images or talking about the game. Avoid posting random things that don’t relate to the game.\n",
    "\n",
    "### 5. **Respect Privacy**  \n",
    "   - Don’t use personal photos of people without their permission. Stick to images of celebrities or everyday objects instead.\n",
    "\n",
    "### 6. **Give Fair Clues and Answers**  \n",
    "   - If giving clues, keep them fair and easy for everyone to understand. Only reveal the answer when most people are ready.\n",
    "\n",
    "### 7. **Respect Everyone’s Opinions**  \n",
    "   - Let people rate how easy or hard they thought the image was to guess without judging them. Everyone sees things differently!\n",
    "\n",
    "### 8. **No Bots or Search Tools**  \n",
    "   - Don’t use search engines or bots to figure out the image. This game is about using your observation skills and having fun, not about “winning” at any cost.\n",
    "\n",
    "### 9. **Report Issues Right Away**  \n",
    "   - If someone shares an inappropriate image or breaks the rules, moderators should step in, remove the post, and remind everyone of the rules.\n",
    "\n",
    "\n"
   ]
  },
  {
   "cell_type": "markdown",
   "metadata": {},
   "source": [
    "# Moderator Rules for our personal group\n",
    "\n",
    "### 1. **Stay Organized**  \n",
    "   - Keep track of ideas, tasks, and who’s responsible for each part. Use a shared document or list to keep things clear and avoid any confusion.\n",
    "\n",
    "### 2. **Communicate Regularly**  \n",
    "   - Check in often with updates, questions, or any issues. We can use group chats, calls, or messages to stay in sync.\n",
    "\n",
    "### 3. **Respect Each Other’s Ideas**  \n",
    "   - Listen to everyone’s suggestions and give respectful feedback. All ideas are helpful and can make the chatroom better.\n",
    "\n",
    "### 4. **Agree on Changes as a Team**  \n",
    "   - For big decisions (like adding new rules or features), make sure everyone agrees before making changes.\n",
    "\n",
    "### 5. **Share the Work**  \n",
    "   - Divide tasks fairly so no one feels overwhelmed. If someone needs help, be open to switching or sharing tasks.\n",
    "\n",
    "### 6. **Test and Review Often**  \n",
    "   - After adding something new, test it out to see if it works well. Get feedback from each other to make improvements.\n",
    "\n",
    "### 7. **Solve Problems Together**  \n",
    "   - If there’s a technical issue or disagreement, work through it calmly as a group to find a solution that works for everyone.\n",
    "\n",
    "### 8. **Meet Deadlines**  \n",
    "   - Stick to any deadlines we set to stay on track. If you’re having trouble with a deadline, let the group know so we can help.\n",
    "\n",
    "### 9. **Celebrate Our Progress**  \n",
    "   - Take time to appreciate each step we complete. It keeps us motivated and reminds us of our goal."
   ]
  }
 ],
 "metadata": {
  "language_info": {
   "name": "python"
  }
 },
 "nbformat": 4,
 "nbformat_minor": 2
}
