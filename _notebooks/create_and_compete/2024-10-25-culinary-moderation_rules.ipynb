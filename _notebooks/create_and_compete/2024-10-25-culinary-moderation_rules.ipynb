{
 "cells": [
  {
   "cell_type": "raw",
   "metadata": {
    "vscode": {
     "languageId": "raw"
    }
   },
   "source": [
    "---\n",
    "title: Moderation Rules for Ingredients chatroom\n",
    "layout: post\n",
    "description: Moderation rules to prevent misconduct on our site\n",
    "permalink: /moderation/rules_food/\n",
    "toc: true\n",
    "comments: true\n",
    "author: Darsh, Alex G, Daksha, Zach\n",
    "---"
   ]
  },
  {
   "cell_type": "markdown",
   "metadata": {},
   "source": [
    "# Moderation Rules for Our Culinary Community\n",
    "\n",
    "Welcome to our social media platform! To maintain a positive and engaging environment for all users, we have established the following moderation rules. By participating in our community, you agree to adhere to these guidelines.\n",
    "\n",
    "## 1. Respectful Interaction\n",
    "- Treat all members with respect and kindness.\n",
    "- No harassment, bullying, or discriminatory remarks will be tolerated.\n",
    "\n",
    "## 2. Relevant Content\n",
    "- Ensure that all posts and replies are related to the culinary topics at hand.\n",
    "- Avoid off-topic discussions to maintain the focus on cooking and recipes.\n",
    "\n",
    "## 3. Appropriate Language\n",
    "- Use clean and respectful language. Profanity, hate speech, or offensive content will result in immediate removal.\n",
    "\n",
    "## 4. Original Contributions\n",
    "- Share original recipes or culinary ideas inspired by the ingredient lists. \n",
    "- Plagiarism is strictly prohibited. Always credit original creators when sharing.\n",
    "\n",
    "## 5. No Spam or Self-Promotion\n",
    "- Avoid posting spammy content or excessive self-promotion. This includes unsolicited advertisements or promotions for external services.\n",
    "\n",
    "## 6. Privacy and Safety\n",
    "- Do not share personal information about yourself or others without consent.\n",
    "- Be cautious when sharing locations or contact details.\n",
    "\n",
    "## 7. Constructive Feedback\n",
    "- When offering feedback on others' dishes, ensure it is constructive and helpful.\n",
    "- Criticism should be aimed at the dish, not the individual.\n",
    "\n",
    "## 8. Reporting Issues\n",
    "- If you encounter inappropriate content or behavior, please report it to the moderation team.\n",
    "- Use the designated reporting tools available on the platform.\n",
    "\n",
    "## 9. Consequences of Violations\n",
    "- Violating these rules may result in content removal, temporary suspension, or permanent banning from the community, depending on the severity of the offense.\n",
    "\n",
    "## 10. Amendments\n",
    "- These rules may be updated as necessary. All users will be notified of any significant changes.\n",
    "\n",
    "Thank you for being a part of our culinary community! Let’s cook up some creativity together!\n"
   ]
  }
 ],
 "metadata": {
  "language_info": {
   "name": "python"
  }
 },
 "nbformat": 4,
 "nbformat_minor": 2
}
