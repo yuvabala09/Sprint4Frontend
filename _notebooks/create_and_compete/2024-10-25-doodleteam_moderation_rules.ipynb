{
 "cells": [
  {
   "cell_type": "raw",
   "metadata": {
    "vscode": {
     "languageId": "raw"
    }
   },
   "source": [
    "---\n",
    "layout: post\n",
    "title: Moderator Rules for Doodle Team  \n",
    "description: Our teams moderator rules\n",
    "permalink: /moderation/rules_doodle/\n",
    "toc: true\n",
    "comments: true\n",
    "author: Arshia, Prajna, Mirabelle, Alex\n",
    "---"
   ]
  },
  {
   "cell_type": "markdown",
   "metadata": {},
   "source": [
    "# Moderator Rules for Doodle Game and Chat Room\n",
    "\n",
    "## 1. User Conduct\n",
    "- All participants must maintain a respectful and friendly demeanor. Harassment, bullying, or discriminatory remarks will not be tolerated.\n",
    "- Inappropriate language or content is strictly prohibited, including hate speech, explicit content, and personal attacks.\n",
    "\n",
    "## 2. Doodle Guidelines\n",
    "- Doodles must adhere to community standards and should not contain offensive or inappropriate content.\n",
    "- Users should not use external images or references to draw during competition rounds; all doodles must be original creations.\n",
    "- **Code Note:** Implement content filtering in the drawing interface to block inappropriate submissions.\n",
    "\n",
    "## 3. Game Integrity\n",
    "- Participants should not collude or share answers during the drawing rounds. Cheating will result in disqualification from the game.\n",
    "- Users must complete their drawings within the designated time limit (e.g., 60 seconds). Use a countdown timer to enforce this rule.\n",
    "- **Code Note:** Use a timer function and disable drawing tools once time runs out.\n",
    "\n",
    "## 4. Voting and Results\n",
    "- Judges or moderators will oversee the voting process to ensure fairness. Users can only vote for their own doodles in designated rounds.\n",
    "- Consistent and transparent criteria for determining accuracy and creativity should be established and communicated to all participants.\n",
    "- **Code Note:** Implement a voting system that prevents multiple votes from the same user in a round.\n",
    "\n",
    "## 5. Chat Room Etiquette\n",
    "- Users should keep discussions relevant to doodling and the game. Off-topic conversations should be taken to private messages or designated areas.\n",
    "- Any disruptive behavior in the chat room, including spamming or excessive self-promotion, will result in warnings or bans.\n",
    "- **Code Note:** Add moderation tools to mute or temporarily ban users for disruptive behavior.\n",
    "\n",
    "## 6. Reporting Issues\n",
    "- Users are encouraged to report any misconduct or issues to moderators. Reports will be handled confidentially and promptly.\n",
    "- Moderators have the authority to take immediate action if a situation escalates or if rules are violated.\n",
    "- **Code Note:** Implement a reporting feature that allows users to flag inappropriate content or behavior easily.\n",
    "\n",
    "## 7. Animation and Sound Effects\n",
    "- Users can add animations and sound effects to their doodles, but these must not distract from gameplay or violate content guidelines.\n",
    "- Excessive or inappropriate sound effects that disrupt others will be addressed by moderators.\n",
    "- **Code Note:** Include an option for users to mute sound effects and animations if they find them distracting.\n",
    "\n",
    "## 8. Feedback and Improvement\n",
    "- Moderators should be open to feedback regarding game rules and chat room dynamics. Suggestions for improvement will be considered to enhance user experience.\n",
    "- **Code Note:** Create a feedback form integrated into the platform for easy user suggestions.\n",
    "\n",
    "-Overall, these rules will help our team's moderator handle any issues players might have and create a positive evironment where everyone can draw and have fun. \n"
   ]
  }
 ],
 "metadata": {
  "language_info": {
   "name": "python"
  }
 },
 "nbformat": 4,
 "nbformat_minor": 2
}
