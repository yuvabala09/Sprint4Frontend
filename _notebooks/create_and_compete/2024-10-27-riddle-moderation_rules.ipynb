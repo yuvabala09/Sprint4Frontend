{
 "cells": [
  {
   "cell_type": "raw",
   "metadata": {},
   "source": [
    "---\n",
    "layout: post\n",
    "title: Moderator Rules\n",
    "description: Moderator rules for the Riddle Room\n",
    "permalink: /moderation/rules_riddle/\n",
    "toc: true\n",
    "comments: true\n",
    "author: Kush, Tarun, Vincent, and Nolan\n",
    "---"
   ]
  },
  {
   "cell_type": "markdown",
   "metadata": {},
   "source": [
    "# Riddle Room Moderations\n",
    "\n",
    "<br>\n",
    "\n",
    "- Be Respectful: Harassment, bullying, or offensive language is not tolerated. Posts that violate this rule may be removed, and users may receive a warning or temporary ban for repeated offenses.\n",
    "\n",
    "- Post Appropriately: Share only school-appropriate content. Inappropriate posts will be removed, and users may be restricted from posting temporarily if they continue to post unsuitable material.\n",
    "\n",
    "- Protect Privacy: Do not share personal information, including phone numbers, addresses, or sensitive details about yourself or others. Posts containing personal information will be deleted, and repeat violations may result in account suspension.\n",
    "\n",
    "- Stay Constructive: Keep feedback polite and aimed at helping others. Negative or disrespectful feedback may lead to a warning, and continued unconstructive comments can result in a temporary ban.\n",
    "\n",
    "- No Spam: Avoid repeated messages or irrelevant promotional links. Spamming will lead to post removal, and persistent spammers may lose posting privileges.\n",
    "\n",
    "- Report Issues: If you see inappropriate content, report it rather than engaging. Users who engage in disruptive behavior may face restrictions on their accounts.\n",
    "\n",
    "- Respect Copyright: Share original work or give credit where it’s due. Plagiarized content will be removed, and repeated copyright violations can result in a ban.\n",
    "\n",
    "- Stay On-Topic: Keep discussions relevant to the page's purpose. Off-topic posts may be removed, and users who frequently disrupt discussions may be restricted."
   ]
  },
  {
   "cell_type": "markdown",
   "metadata": {},
   "source": []
  }
 ],
 "metadata": {
  "language_info": {
   "name": "python"
  }
 },
 "nbformat": 4,
 "nbformat_minor": 2
}
