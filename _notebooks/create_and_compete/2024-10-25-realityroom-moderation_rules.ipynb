{
 "cells": [
  {
   "cell_type": "raw",
   "metadata": {
    "vscode": {
     "languageId": "raw"
    }
   },
   "source": [
    "---\n",
    "layout: post\n",
    "title: Moderator Rules\n",
    "description: Moderator rules for the Reality Room chatroom.\n",
    "permalink: /moderation/rules_realityroom/\n",
    "toc: true\n",
    "comments: true\n",
    "author: Yash, Rohan, Nikhil, Neil\n",
    "---"
   ]
  },
  {
   "cell_type": "code",
   "execution_count": null,
   "metadata": {
    "vscode": {
     "languageId": "markdown"
    }
   },
   "outputs": [],
   "source": [
    "# Chatroom/Social Media Moderation Rules\n",
    "\n",
    "As this is a school-related website, please make sure you recognize that anything you post that breaks any of the below rules may get you in legal trouble. If you are just here to keep a safe community and have fun, enjoy!\n",
    "\n",
    "1. **Respectful Communication**: Always communicate with respect. No abusive, offensive, or hateful language will be tolerated.\n",
    "\n",
    "2. **No Spamming**: Avoid posting repetitive messages, advertisements, or irrelevant links.\n",
    "\n",
    "3. **Privacy Respect**: Do not share personal information of yourself or others without consent.\n",
    "\n",
    "4. **No Harassment**: Harassment, bullying, or targeting individuals or groups will result in immediate action.\n",
    "\n",
    "5. **Appropriate Content**: Share content that is appropriate for all audiences. No explicit, violent, or illegal content.\n",
    "\n",
    "6. **Report Violations**: If you see any rule violations, report them to the moderators immediately.\n",
    "\n",
    "7. **Follow Platform Guidelines**: Adhere to the specific guidelines and terms of service of the platform.\n",
    "\n",
    "8. **Constructive Feedback**: Provide feedback in a constructive manner. Avoid negative or destructive criticism.\n",
    "\n",
    "9. **No Impersonation**: Do not impersonate other users, moderators, or public figures.\n",
    "\n",
    "10. **Language**: Use the primary language of the chatroom or social media site to ensure clear communication.\n",
    "\n",
    "11. **Respect Moderators**: Follow the instructions of moderators and respect their decisions.\n",
    "\n",
    "12. **No Illegal Activities**: Any form of illegal activity will be reported to the authorities and result in a ban.\n",
    "\n",
    "By participating in this chatroom/social media site, you agree to follow these rules. Failure to comply may result in warnings, temporary bans, or permanent removal from the platform."
   ]
  }
 ],
 "metadata": {
  "language_info": {
   "name": "python"
  }
 },
 "nbformat": 4,
 "nbformat_minor": 2
}
