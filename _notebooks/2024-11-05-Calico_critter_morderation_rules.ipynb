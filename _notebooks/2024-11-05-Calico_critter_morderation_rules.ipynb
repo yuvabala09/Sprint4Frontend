{
 "cells": [
  {
   "cell_type": "code",
   "execution_count": null,
   "metadata": {},
   "outputs": [],
   "source": [
    "---\n",
    "layout: post\n",
    "title: Moderator Rules\n",
    "description: Calico critter moderator rules!\n",
    "permalink: /moderation/calico_critter/\n",
    "toc: false\n",
    "comments: true\n",
    "author: Maryam A, Nora A, Kushi G, Joanna H\n",
    "---"
   ]
  },
  {
   "cell_type": "markdown",
   "metadata": {},
   "source": [
    "<h2> Rules are put in place to make this page a safe environment! </h2>\n",
    "\n",
    "<h3>\n",
    "  1. No cussing in the chats. <br>\n",
    "  2. Stay on topic, Calico Critters only! <br>\n",
    "  3. You have to be part of the DNHS Calico Critters club to join <br>\n",
    "  4. You must have valid reasoning for your votes <br>\n",
    "  5. Do not be toxic, negative, or attack others for their opinions. <br>\n",
    "</h3>"
   ]
  },
  {
   "cell_type": "markdown",
   "metadata": {},
   "source": [
    "## https://tinyurl.com/calicovote\n",
    "\n",
    "![qr code]({{site.baseurl}}/images/calicocritters/calicocode.png)\n"
   ]
  }
 ],
 "metadata": {
  "kernelspec": {
   "display_name": "Python 3",
   "language": "python",
   "name": "python3"
  },
  "language_info": {
   "codemirror_mode": {
    "name": "ipython",
    "version": 3
   },
   "file_extension": ".py",
   "mimetype": "text/x-python",
   "name": "python",
   "nbconvert_exporter": "python",
   "pygments_lexer": "ipython3",
   "version": "3.10.12"
  }
 },
 "nbformat": 4,
 "nbformat_minor": 2
}
